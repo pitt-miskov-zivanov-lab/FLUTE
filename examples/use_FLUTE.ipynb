{
 "cells": [
  {
   "cell_type": "code",
   "id": "dc664948",
   "metadata": {
    "tags": [],
    "ExecuteTime": {
     "end_time": "2024-05-21T02:34:01.803076Z",
     "start_time": "2024-05-21T02:34:01.790735Z"
    }
   },
   "source": [
    "import sys,os\n",
    "sys.path.insert(0, os.path.abspath(os.path.join(os.getcwd(), os.pardir, 'src')))"
   ],
   "outputs": [],
   "execution_count": 1
  },
  {
   "cell_type": "code",
   "id": "1dbc48b0",
   "metadata": {
    "tags": [],
    "ExecuteTime": {
     "end_time": "2024-05-21T02:34:05.438465Z",
     "start_time": "2024-05-21T02:34:02.946891Z"
    }
   },
   "source": [
    "import matplotlib.pyplot as plt\n",
    "import pandas as pd\n",
    "import numpy as np\n",
    "import networkx as nx\n",
    "import mysql.connector\n",
    "import run_FLUTE"
   ],
   "outputs": [],
   "execution_count": 2
  },
  {
   "cell_type": "code",
   "id": "27a144eb",
   "metadata": {
    "tags": [],
    "ExecuteTime": {
     "end_time": "2024-05-21T02:34:05.450904Z",
     "start_time": "2024-05-21T02:34:05.440854Z"
    }
   },
   "source": [
    "#Add username and password for local FLUTE DB\n",
    "db_name = \"\"\n",
    "db_host = \"\"\n",
    "db_user = \"\"\n",
    "db_password = \"\""
   ],
   "outputs": [],
   "execution_count": 3
  },
  {
   "cell_type": "markdown",
   "id": "5355c2a0",
   "metadata": {},
   "source": [
    "## Using FLUTE to filter interactions"
   ]
  },
  {
   "cell_type": "code",
   "id": "a5147a98",
   "metadata": {
    "tags": [],
    "ExecuteTime": {
     "end_time": "2024-05-21T02:34:06.025374Z",
     "start_time": "2024-05-21T02:34:06.017935Z"
    }
   },
   "source": [
    "data = [['CD4','','P01730','9606.ENSP00000011653','','','','','AKT','','P31749','9606.ENSP00000451828','','','','']]\n",
    "ints = pd.DataFrame(data)"
   ],
   "outputs": [],
   "execution_count": 4
  },
  {
   "cell_type": "code",
   "id": "0e4fdb6b",
   "metadata": {
    "tags": [],
    "ExecuteTime": {
     "end_time": "2024-05-21T02:34:06.729810Z",
     "start_time": "2024-05-21T02:34:06.671637Z"
    }
   },
   "source": [
    "raw_data = run_FLUTE.findInts(db_user,db_password,db_host, db_name, ints.values,0,0,0)\n",
    "scores = pd.DataFrame(raw_data[:,[0,1,2,3,4]])\n",
    "scores.columns = [\"Element 1\", \"Element 2\", \"Escore\", \"Tscore\", \"Dscore\"]"
   ],
   "outputs": [],
   "execution_count": 5
  },
  {
   "cell_type": "code",
   "id": "598a3a3b",
   "metadata": {
    "tags": [],
    "ExecuteTime": {
     "end_time": "2024-05-21T02:34:07.531449Z",
     "start_time": "2024-05-21T02:34:07.514566Z"
    }
   },
   "source": [
    "scores"
   ],
   "outputs": [
    {
     "data": {
      "text/plain": [
       "  Element 1 Element 2 Escore Tscore Dscore\n",
       "0                        186    254      0\n",
       "1                        186    254      0"
      ],
      "text/html": [
       "<div>\n",
       "<style scoped>\n",
       "    .dataframe tbody tr th:only-of-type {\n",
       "        vertical-align: middle;\n",
       "    }\n",
       "\n",
       "    .dataframe tbody tr th {\n",
       "        vertical-align: top;\n",
       "    }\n",
       "\n",
       "    .dataframe thead th {\n",
       "        text-align: right;\n",
       "    }\n",
       "</style>\n",
       "<table border=\"1\" class=\"dataframe\">\n",
       "  <thead>\n",
       "    <tr style=\"text-align: right;\">\n",
       "      <th></th>\n",
       "      <th>Element 1</th>\n",
       "      <th>Element 2</th>\n",
       "      <th>Escore</th>\n",
       "      <th>Tscore</th>\n",
       "      <th>Dscore</th>\n",
       "    </tr>\n",
       "  </thead>\n",
       "  <tbody>\n",
       "    <tr>\n",
       "      <th>0</th>\n",
       "      <td></td>\n",
       "      <td></td>\n",
       "      <td>186</td>\n",
       "      <td>254</td>\n",
       "      <td>0</td>\n",
       "    </tr>\n",
       "    <tr>\n",
       "      <th>1</th>\n",
       "      <td></td>\n",
       "      <td></td>\n",
       "      <td>186</td>\n",
       "      <td>254</td>\n",
       "      <td>0</td>\n",
       "    </tr>\n",
       "  </tbody>\n",
       "</table>\n",
       "</div>"
      ]
     },
     "execution_count": 6,
     "metadata": {},
     "output_type": "execute_result"
    }
   ],
   "execution_count": 6
  },
  {
   "cell_type": "code",
   "execution_count": 7,
   "id": "dc6b9f40134ebbad",
   "metadata": {
    "ExecuteTime": {
     "end_time": "2024-05-21T02:10:43.874805Z",
     "start_time": "2024-05-21T02:06:51.011557Z"
    },
    "tags": []
   },
   "outputs": [
    {
     "name": "stdout",
     "output_type": "stream",
     "text": [
      "File filtered: input/example.xlsx Time: 234.89838981628418 seconds\n"
     ]
    }
   ],
   "source": [
    "## filter interactions from table\n",
    "data_file = 'input/example.xlsx'\n",
    "filtered_name = 'output/example_filtered_interactions.tsv'\n",
    "score = 'output/example_filtered_interactions_score.tsv'\n",
    "run_FLUTE.outputs(db_name, db_host, db_user, db_password, data_file, filtered_name, score)"
   ]
  },
  {
   "cell_type": "markdown",
   "id": "14fc259d",
   "metadata": {},
   "source": [
    "## Using FLUTE to query an individual protein"
   ]
  },
  {
   "cell_type": "code",
   "execution_count": null,
   "id": "e6e937c6",
   "metadata": {},
   "outputs": [],
   "source": [
    "query_prot = \"P00533\""
   ]
  },
  {
   "cell_type": "code",
   "execution_count": null,
   "id": "57e8d6e3",
   "metadata": {},
   "outputs": [],
   "source": [
    "!unzip ../supplementary/oa_file_list.txt.zip"
   ]
  },
  {
   "cell_type": "code",
   "execution_count": null,
   "id": "5b8110a9",
   "metadata": {},
   "outputs": [],
   "source": [
    "!python3 ../src/years.py"
   ]
  },
  {
   "cell_type": "code",
   "execution_count": null,
   "id": "7a088733",
   "metadata": {},
   "outputs": [],
   "source": [
    "#get related papers\n",
    "rel_papers = run_FLUTE.getRelatedPapers(db_user,db_password,'localhost', 'flute', query_prot)"
   ]
  },
  {
   "cell_type": "code",
   "execution_count": null,
   "id": "2a4ddaa9",
   "metadata": {},
   "outputs": [],
   "source": [
    "rel_papers"
   ]
  },
  {
   "cell_type": "markdown",
   "id": "0aa487d5",
   "metadata": {},
   "source": [
    "## Using FLUTE to analyze a paper set"
   ]
  },
  {
   "cell_type": "code",
   "execution_count": null,
   "id": "24104a4d",
   "metadata": {},
   "outputs": [],
   "source": [
    "#get related interactions\n",
    "rel_ints = run_FLUTE.getRelatedInts(db_user,db_password,'localhost', 'flute', 'inputs/papers.xlsx')"
   ]
  },
  {
   "cell_type": "code",
   "execution_count": null,
   "id": "7d018a4e",
   "metadata": {},
   "outputs": [],
   "source": [
    "G = nx.from_edgelist(rel_ints[:,:2])\n",
    "nx.draw(G,pos=nx.circular_layout(G),with_labels=True)\n",
    "plt.show()"
   ]
  }
 ],
 "metadata": {
  "kernelspec": {
   "display_name": "py3_7",
   "language": "python",
   "name": "py3_7"
  },
  "language_info": {
   "codemirror_mode": {
    "name": "ipython",
    "version": 3
   },
   "file_extension": ".py",
   "mimetype": "text/x-python",
   "name": "python",
   "nbconvert_exporter": "python",
   "pygments_lexer": "ipython3",
   "version": "3.7.9"
  }
 },
 "nbformat": 4,
 "nbformat_minor": 5
}

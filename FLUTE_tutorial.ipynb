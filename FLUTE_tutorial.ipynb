{
 "cells": [
  {
   "cell_type": "code",
   "execution_count": null,
   "id": "1dbc48b0",
   "metadata": {},
   "outputs": [],
   "source": [
    "import sys,os\n",
    "import matplotlib.pyplot as plt\n",
    "import pandas as pd\n",
    "import numpy as np\n",
    "import mysql.connector\n",
    "import run_FLUTE\n",
    "import networkx as nx"
   ]
  },
  {
   "cell_type": "code",
   "execution_count": null,
   "id": "27a144eb",
   "metadata": {},
   "outputs": [],
   "source": [
    "#Add username and password for local FLUTE DB\n",
    "db_user=\"\"\n",
    "db_password=\"\""
   ]
  },
  {
   "cell_type": "markdown",
   "id": "5355c2a0",
   "metadata": {},
   "source": [
    "Using FLUTE to filter interactions"
   ]
  },
  {
   "cell_type": "code",
   "execution_count": null,
   "id": "a5147a98",
   "metadata": {},
   "outputs": [],
   "source": [
    "data = [['CD4','','P01730','9606.ENSP00000011653','','','','','AKT','','P31749','9606.ENSP00000451828','','','','']]\n",
    "ints = pd.DataFrame(data)"
   ]
  },
  {
   "cell_type": "code",
   "execution_count": null,
   "id": "0e4fdb6b",
   "metadata": {},
   "outputs": [],
   "source": [
    "raw_data = run_FLUTE.findInts(db_user,db_password,'localhost', 'FLUTE', ints.values,0,0,0)\n",
    "scores = pd.DataFrame(raw_data[:,[0,2,4,5,6]])\n",
    "scores.columns = [\"Element 1\", \"Element 2\", \"Escore\", \"Tscore\",\"Dscore\"]"
   ]
  },
  {
   "cell_type": "code",
   "execution_count": null,
   "id": "598a3a3b",
   "metadata": {},
   "outputs": [],
   "source": [
    "scores"
   ]
  },
  {
   "cell_type": "markdown",
   "id": "14fc259d",
   "metadata": {},
   "source": [
    "Using flute to query an individual protein"
   ]
  },
  {
   "cell_type": "code",
   "execution_count": null,
   "id": "5357a555",
   "metadata": {},
   "outputs": [],
   "source": [
    "query_prot = \"P00533\""
   ]
  },
  {
   "cell_type": "code",
   "execution_count": null,
   "id": "7a088733",
   "metadata": {},
   "outputs": [],
   "source": [
    "#get related papers\n",
    "rel_papers = run_FLUTE.getRelatedPapers(db_user,db_password,'localhost', 'FLUTE', query_prot)"
   ]
  },
  {
   "cell_type": "markdown",
   "id": "0aa487d5",
   "metadata": {},
   "source": [
    "Using FLUTE to analyze a paper set"
   ]
  },
  {
   "cell_type": "code",
   "execution_count": null,
   "id": "24104a4d",
   "metadata": {},
   "outputs": [],
   "source": [
    "#get related interactions\n",
    "rel_ints = run_FLUTE.getRelatedInts(db_user,db_password,'localhost', 'FLUTE', '../sample input/papers.xlsx')"
   ]
  },
  {
   "cell_type": "code",
   "execution_count": null,
   "id": "7d018a4e",
   "metadata": {},
   "outputs": [],
   "source": [
    "G = nx.from_edgelist(rel_ints[:,:2])\n",
    "nx.draw(G,pos=nx.circular_layout(G),with_labels=True)\n",
    "plt.show()"
   ]
  }
 ],
 "metadata": {
  "kernelspec": {
   "display_name": "Python 3 (ipykernel)",
   "language": "python",
   "name": "python3"
  },
  "language_info": {
   "codemirror_mode": {
    "name": "ipython",
    "version": 3
   },
   "file_extension": ".py",
   "mimetype": "text/x-python",
   "name": "python",
   "nbconvert_exporter": "python",
   "pygments_lexer": "ipython3",
   "version": "3.9.5"
  }
 },
 "nbformat": 4,
 "nbformat_minor": 5
}
